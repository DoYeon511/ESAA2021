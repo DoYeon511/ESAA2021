{
  "nbformat": 4,
  "nbformat_minor": 0,
  "metadata": {
    "colab": {
      "name": "ESAA_1101_분류_연습문제.ipynb",
      "provenance": [],
      "collapsed_sections": []
    },
    "kernelspec": {
      "name": "python3",
      "display_name": "Python 3"
    },
    "language_info": {
      "name": "python"
    }
  },
  "cells": [
    {
      "cell_type": "code",
      "metadata": {
        "id": "f-ZLIGeL5zFu"
      },
      "source": [
        "import numpy as np\n",
        "import os"
      ],
      "execution_count": 1,
      "outputs": []
    },
    {
      "cell_type": "code",
      "metadata": {
        "colab": {
          "base_uri": "https://localhost:8080/"
        },
        "id": "7vjvwcpf6Df4",
        "outputId": "3f98bb8e-967c-4bb8-a0fa-7357ead228de"
      },
      "source": [
        "from sklearn.datasets import fetch_openml\n",
        "mnist = fetch_openml('mnist_784', version=1)\n",
        "mnist.keys()"
      ],
      "execution_count": 2,
      "outputs": [
        {
          "output_type": "execute_result",
          "data": {
            "text/plain": [
              "dict_keys(['data', 'target', 'frame', 'feature_names', 'target_names', 'DESCR', 'details', 'categories', 'url'])"
            ]
          },
          "metadata": {},
          "execution_count": 2
        }
      ]
    },
    {
      "cell_type": "code",
      "metadata": {
        "colab": {
          "base_uri": "https://localhost:8080/"
        },
        "id": "FoTWG98j6IG2",
        "outputId": "af3dfdea-0225-4699-d46b-0829ed0cfc40"
      },
      "source": [
        "X, y = mnist[\"data\"], mnist[\"target\"]\n",
        "X.shape   # 28*28 = 784"
      ],
      "execution_count": 3,
      "outputs": [
        {
          "output_type": "execute_result",
          "data": {
            "text/plain": [
              "(70000, 784)"
            ]
          },
          "metadata": {},
          "execution_count": 3
        }
      ]
    },
    {
      "cell_type": "code",
      "metadata": {
        "colab": {
          "base_uri": "https://localhost:8080/"
        },
        "id": "xc_5eQpy68X2",
        "outputId": "aa9b3489-434e-43b6-d5ff-03021ac81b2a"
      },
      "source": [
        "y.shape"
      ],
      "execution_count": 4,
      "outputs": [
        {
          "output_type": "execute_result",
          "data": {
            "text/plain": [
              "(70000,)"
            ]
          },
          "metadata": {},
          "execution_count": 4
        }
      ]
    },
    {
      "cell_type": "code",
      "metadata": {
        "id": "kYN2YtSO69F4"
      },
      "source": [
        "y = y.astype(np.uint8)"
      ],
      "execution_count": 5,
      "outputs": []
    },
    {
      "cell_type": "code",
      "metadata": {
        "id": "LoeREFmR7LX4"
      },
      "source": [
        "X_train, X_test, y_train, y_test = X[:60000], X[60000:], y[:60000], y[60000:]"
      ],
      "execution_count": 6,
      "outputs": []
    },
    {
      "cell_type": "code",
      "metadata": {
        "id": "JfTnJB0b7Nhz"
      },
      "source": [
        "# 너무 오래 걸려서 돌리는 것은 생략\n",
        "\n",
        "from sklearn.neighbors import KNeighborsClassifier\n",
        "from sklearn.model_selection import GridSearchCV\n",
        "from sklearn.model_selection import cross_val_score, KFold\n",
        "\n",
        "kf = KFold(len(y), n_folds=5)\n",
        "\n",
        "params = [{'weights' : ['uniform', 'distance'], 'n_neighbors' : [4, 5, 6]}]\n",
        "\n",
        "knn_clf = KNeighborsClassifier()\n",
        "grid_search = GridSearchCV(knn_clf, params, cv = kf)\n",
        "grid_search.fit(X_train, y_train)"
      ],
      "execution_count": null,
      "outputs": []
    },
    {
      "cell_type": "code",
      "metadata": {
        "id": "DJJL4pjW-0dr"
      },
      "source": [
        "print(grid_search.best_params_)\n",
        "print(grid_search.best_score_)"
      ],
      "execution_count": null,
      "outputs": []
    },
    {
      "cell_type": "code",
      "metadata": {
        "id": "uuPKecq9-3_U"
      },
      "source": [
        "from sklearn.metrics import accuracy_score\n",
        "\n",
        "y_pred = grid_search.predict(X_test)\n",
        "accuracy_score(y_test, y_pred)"
      ],
      "execution_count": null,
      "outputs": []
    },
    {
      "cell_type": "markdown",
      "metadata": {
        "id": "QLpGgl6t-4oV"
      },
      "source": [
        "## 문제 2"
      ]
    },
    {
      "cell_type": "code",
      "metadata": {
        "id": "xCo4gDWLFnBb"
      },
      "source": [
        "from scipy.ndimage.interpolation import shift"
      ],
      "execution_count": 31,
      "outputs": []
    },
    {
      "cell_type": "code",
      "metadata": {
        "id": "b6nHJDPgBxfT"
      },
      "source": [
        "def shift_image(image, down, right):\n",
        "  image = image.reshape(28,28)\n",
        "  shift_img = shift(image, [down, right], cval = 0)\n",
        "  return shift_img.reshape(28,28)"
      ],
      "execution_count": 34,
      "outputs": []
    },
    {
      "cell_type": "code",
      "metadata": {
        "colab": {
          "base_uri": "https://localhost:8080/",
          "height": 500
        },
        "id": "2aCM1H5lEduC",
        "outputId": "10f046a8-22d8-41c6-e71f-06a367e0dacd"
      },
      "source": [
        "image = X[0]\n",
        "up = shift_image(image, -3, 0)\n",
        "down = shift_image(image, 3, 0)\n",
        "left = shift_image(image, 0, -3)\n",
        "right = shift_image(image, 0, 3)\n",
        "\n",
        "plt.figure(figsize=(8,8))\n",
        "plt.subplot(221); plt.title(\"down\", fontsize=14); plt.imshow(down, cmap = 'binary')\n",
        "plt.subplot(222); plt.title(\"up\", fontsize=14); plt.imshow(up, cmap = 'binary')\n",
        "plt.subplot(223); plt.title(\"left\", fontsize=14); plt.imshow(left, cmap = 'binary')\n",
        "plt.subplot(224); plt.title(\"right\", fontsize=14); plt.imshow(right, cmap = 'binary')\n",
        "\n",
        "plt.show()"
      ],
      "execution_count": 35,
      "outputs": [
        {
          "output_type": "display_data",
          "data": {
            "image/png": "[encoded data removed]",
            "text/plain": [
              "<Figure size 576x576 with 4 Axes>"
            ]
          },
          "metadata": {
            "needs_background": "light"
          }
        }
      ]
    },
    {
      "cell_type": "code",
      "metadata": {
        "colab": {
          "base_uri": "https://localhost:8080/"
        },
        "id": "KRbuzzkQFPDS",
        "outputId": "da88e0a3-92d7-4ea7-9c6a-52f16b5fe046"
      },
      "source": [
        "X_train_augmented = [image for image in X_train]\n",
        "y_train_augmented = [label for label in y_train]\n",
        "\n",
        "for down, right in ((1, 0), (-1, 0), (0, 1), (0, -1)):  # 이미지를 각각 4 방향으로 이동하고 저장\n",
        "    for image, label in zip(X_train, y_train):\n",
        "        X_train_augmented.append(shift_image(image, down, right))\n",
        "        y_train_augmented.append(label)\n",
        "\n",
        "X_train_augmented = np.array(X_train_augmented)\n",
        "y_train_augmented = np.array(y_train_augmented)"
      ],
      "execution_count": 36,
      "outputs": [
        {
          "output_type": "stream",
          "name": "stderr",
          "text": [
            "/usr/local/lib/python3.7/dist-packages/ipykernel_launcher.py:9: VisibleDeprecationWarning: Creating an ndarray from ragged nested sequences (which is a list-or-tuple of lists-or-tuples-or ndarrays with different lengths or shapes) is deprecated. If you meant to do this, you must specify 'dtype=object' when creating the ndarray\n",
            "  if __name__ == '__main__':\n"
          ]
        }
      ]
    },
    {
      "cell_type": "code",
      "metadata": {
        "id": "DYFdStA5GwUo"
      },
      "source": [
        "shuffle_idx = np.random.permutation(len(X_train_augmented))  # 무작위로 배열을 섞음\n",
        "X_train_augmented = X_train_augmented[shuffle_idx]\n",
        "y_train_augmented = y_train_augmented[shuffle_idx]"
      ],
      "execution_count": 37,
      "outputs": []
    },
    {
      "cell_type": "code",
      "metadata": {
        "id": "J41Jls5uG0cv"
      },
      "source": [
        "knn_clf = KNeighborsClassifier(grid_search.best_params_)  "
      ],
      "execution_count": null,
      "outputs": []
    },
    {
      "cell_type": "code",
      "metadata": {
        "id": "qYPWa1Q2G3MQ"
      },
      "source": [
        "knn_clf.fit(X_train_augmented, y_train_augmented)"
      ],
      "execution_count": null,
      "outputs": []
    }
  ]
}
